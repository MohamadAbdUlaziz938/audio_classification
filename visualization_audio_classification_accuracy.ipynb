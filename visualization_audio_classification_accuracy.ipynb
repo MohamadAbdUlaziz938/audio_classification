{
 "cells": [
  {
   "cell_type": "code",
   "execution_count": 3,
   "metadata": {},
   "outputs": [],
   "source": [
    "import pandas as pd"
   ]
  },
  {
   "cell_type": "code",
   "execution_count": 28,
   "metadata": {},
   "outputs": [],
   "source": [
    "def read_csv_file(file_name):\n",
    "    return pd.read_csv(file_name)"
   ]
  },
  {
   "cell_type": "code",
   "execution_count": 35,
   "metadata": {},
   "outputs": [],
   "source": [
    "def max_accuracy_epoch(df,col=\"val_accuracy\"):\n",
    "     return df[col].max()\n",
    "    "
   ]
  },
  {
   "cell_type": "markdown",
   "metadata": {},
   "source": [
    "### five seconds"
   ]
  },
  {
   "cell_type": "code",
   "execution_count": 39,
   "metadata": {},
   "outputs": [
    {
     "name": "stdout",
     "output_type": "stream",
     "text": [
      "\n",
      "\t\t****** DWT MFCC ********\n",
      "\n",
      "       loss  accuracy  val_loss  val_accuracy\n",
      "0  4.454664  0.097932  2.673831      0.324390\n",
      "1  1.428347  0.646594  0.696797      0.819512\n",
      "2  0.379196  0.908759  0.351721      0.914634\n",
      "3  0.149245  0.975061  0.230813      0.934146\n",
      "4  0.078233  0.990876  0.176249      0.948780\n",
      "5  0.039428  0.997567  0.152991      0.963415\n",
      "6  0.022543  1.000000  0.135943      0.975610\n",
      "\n",
      "\t\t****** PCA MFCC ********\n",
      "\n",
      "       loss  accuracy  val_loss  val_accuracy\n",
      "0  3.120825  0.326841  1.371027      0.732360\n",
      "1  0.669070  0.877054  0.410698      0.924574\n",
      "2  0.188786  0.972611  0.252281      0.944039\n",
      "3  0.070145  0.996348  0.182099      0.963504\n",
      "4  0.035503  1.000000  0.154928      0.965937\n",
      "5  0.019264  1.000000  0.138903      0.970803\n",
      "6  0.012848  1.000000  0.127012      0.978102\n",
      "\n",
      "\t\t****** DWT ********\n",
      "\n",
      "\n",
      "\t\t****** PCA DWT ********\n",
      "\n",
      "\n",
      "\t\t****** MAX ACCURACY ********\n",
      "\n",
      "[0.9756097793579102, 0.978102207183838]\n"
     ]
    }
   ],
   "source": [
    "accuracy_five=[]\n",
    "his_five_sec_dwt_mfcc=read_csv_file(\"five_level2_DWT&MFCC.csv\")\n",
    "his_five_sec_pca_mfcc=read_csv_file(\"five_level2_PCA&MFCC.csv\")\n",
    "#his_five_sec_dwt=read_csv_file(\"five_level2_DWT.csv\")\n",
    "#his_five_sec_pca_dwt=read_csv_file(\"five_level2_PCA&DWT.csv\")\n",
    "print(\"\\n\\t\\t****** DWT MFCC ********\\n\")\n",
    "print(his_five_sec_dwt_mfcc)\n",
    "print(\"\\n\\t\\t****** PCA MFCC ********\\n\")\n",
    "print(his_five_sec_pca_mfcc)\n",
    "print(\"\\n\\t\\t****** DWT ********\\n\")\n",
    "#print(his_five_sec_dwt)\n",
    "print(\"\\n\\t\\t****** PCA DWT ********\\n\")\n",
    "#print(his_five_sec_pca_dwt)\n",
    "accuracy_five.append(max_accuracy_epoch(his_five_sec_dwt_mfcc))\n",
    "accuracy_five.append(max_accuracy_epoch(his_five_sec_pca_mfcc))\n",
    "# accuracy_five.append(max_accuracy_epoch(his_five_sec_dwt))\n",
    "# accuracy_five.append(max_accuracy_epoch(his_five_sec_pca_dwt))\n",
    "print(\"\\n\\t\\t****** MAX ACCURACY ********\\n\")\n",
    "print(accuracy_five)"
   ]
  },
  {
   "cell_type": "markdown",
   "metadata": {},
   "source": [
    "### three seconds"
   ]
  },
  {
   "cell_type": "code",
   "execution_count": null,
   "metadata": {},
   "outputs": [],
   "source": [
    "accuracy_three=[]\n",
    "his_three_sec_dwt_mfcc=read_csv_file(\"three_level2_DWT&MFCC.csv\")\n",
    "his_three_sec_pca_mfcc=read_csv_file(\"three_level2_PCA&MFCC.csv\")\n",
    "#his_three_sec_dwt=read_csv_file(\"three_level2_DWT.csv\")\n",
    "#his_three_sec_pca_dwt=read_csv_file(\"three_level2_PCA&DWT.csv\")\n",
    "print(\"\\n\\t\\t****** DWT MFCC ********\\n\")\n",
    "print(his_three_sec_dwt_mfcc)\n",
    "print(\"\\n\\t\\t****** PCA MFCC ********\\n\")\n",
    "print(his_three_sec_pca_mfcc)\n",
    "print(\"\\n\\t\\t****** DWT ********\\n\")\n",
    "#print(his_three_sec_dwt)\n",
    "print(\"\\n\\t\\t****** PCA DWT ********\\n\")\n",
    "#print(his_three_sec_pca_dwt)\n",
    "accuracy_three.append(max_accuracy_epoch(his_three_sec_dwt_mfcc))\n",
    "accuracy_three.append(max_accuracy_epoch(his_three_sec_pca_mfcc))\n",
    "# accuracy_three.append(max_accuracy_epoch(his_three_sec_dwt))\n",
    "# accuracy_three.append(max_accuracy_epoch(his_three_sec_pca_dwt))"
   ]
  },
  {
   "cell_type": "markdown",
   "metadata": {},
   "source": [
    "### one second"
   ]
  },
  {
   "cell_type": "code",
   "execution_count": null,
   "metadata": {},
   "outputs": [],
   "source": [
    "accuracy_one=[]\n",
    "his_one_sec_dwt_mfcc=read_csv_file(\"one_level2_DWT&MFCC.csv\")\n",
    "his_one_sec_pca_mfcc=read_csv_file(\"one_level2_PCA&MFCC.csv\")\n",
    "#his_one_sec_dwt=read_csv_file(\"one_level2_DWT.csv\")\n",
    "#his_one_sec_pca_dwt=read_csv_file(\"one_level2_PCA&DWT.csv\")\n",
    "print(\"\\n\\t\\t****** DWT MFCC ********\\n\")\n",
    "print(his_one_sec_dwt_mfcc)\n",
    "print(\"\\n\\t\\t****** PCA MFCC ********\\n\")\n",
    "print(his_one_sec_pca_mfcc)\n",
    "print(\"\\n\\t\\t****** DWT ********\\n\")\n",
    "#print(his_one_sec_dwt)\n",
    "print(\"\\n\\t\\t****** PCA DWT ********\\n\")\n",
    "#print(his_one_sec_pca_dwt)\n",
    "accuracy_one.append(max_accuracy_epoch(his_one_sec_dwt_mfcc))\n",
    "accuracy_one.append(max_accuracy_epoch(his_one_sec_pca_mfcc))\n",
    "# accuracy_one.append(max_accuracy_epoch(his_one_sec_dwt))\n",
    "# accuracy_one.append(max_accuracy_epoch(his_one_sec_pca_dwt))"
   ]
  },
  {
   "cell_type": "markdown",
   "metadata": {},
   "source": [
    "### half second"
   ]
  },
  {
   "cell_type": "code",
   "execution_count": null,
   "metadata": {},
   "outputs": [],
   "source": [
    "accuracy_half=[]\n",
    "his_half_sec_dwt_mfcc=read_csv_file(\"half_level2_DWT&MFCC.csv\")\n",
    "his_half_sec_pca_mfcc=read_csv_file(\"half_level2_PCA&MFCC.csv\")\n",
    "#his_half_sec_dwt=read_csv_file(\"falf_level2_DWT.csv\")\n",
    "#his_half_sec_pca_dwt=read_csv_file(\"half_level2_PCA&DWT.csv\")\n",
    "print(\"\\n\\t\\t****** DWT MFCC ********\\n\")\n",
    "print(his_half_sec_dwt_mfcc)\n",
    "print(\"\\n\\t\\t****** PCA MFCC ********\\n\")\n",
    "print(his_half_sec_pca_mfcc)\n",
    "print(\"\\n\\t\\t****** DWT ********\\n\")\n",
    "#print(his_half_sec_dwt)\n",
    "print(\"\\n\\t\\t****** PCA DWT ********\\n\")\n",
    "#print(his_half_sec_pca_dwt)\n",
    "accuracy_half.append(max_accuracy_epoch(his_half_sec_dwt_mfcc))\n",
    "accuracy_half.append(max_accuracy_epoch(his_half_sec_pca_mfcc))\n",
    "# accuracy_half.append(max_accuracy_epoch(his_half_sec_dwt))\n",
    "# accuracy_half.append(max_accuracy_epoch(his_half_sec_pca_dwt))"
   ]
  },
  {
   "cell_type": "code",
   "execution_count": null,
   "metadata": {},
   "outputs": [],
   "source": [
    "\n"
   ]
  },
  {
   "cell_type": "markdown",
   "metadata": {},
   "source": [
    "### accuracy visualization"
   ]
  },
  {
   "cell_type": "code",
   "execution_count": 45,
   "metadata": {},
   "outputs": [
    {
     "data": {
      "image/png": "[encoded data removed]",
      "text/plain": [
       "<Figure size 432x288 with 1 Axes>"
      ]
     },
     "metadata": {
      "needs_background": "light"
     },
     "output_type": "display_data"
    }
   ],
   "source": [
    "mfcc_dwt = [accuracy_half[0], accuracy_one[0], accuracy_three[0], accuracy_five[0]]\n",
    "mfcc_pca = [accuracy_half[1], accuracy_one[1], accuracy_three[1], accuracy_five[1]]\n",
    "dwt = [accuracy_half[2], accuracy_one[2], accuracy_three[2], accuracy_five[2]]\n",
    "dwt_pca = [accuracy_half[3], accuracy_one[3], accuracy_three[3], accuracy_five[3]]\n",
    "index = ['0.5', '1', '3',\n",
    "         '5']\n",
    "df = pd.DataFrame({'mfcc_dwt': mfcc_dwt,\n",
    "                   'mfcc_pca': mfcc_pca,\n",
    "                   'dwt': dwt,\n",
    "                   'dwt_pca': dwt_pca}, index=index)\n",
    "ax = df.plot.bar(rot=0)"
   ]
  },
  {
   "cell_type": "code",
   "execution_count": null,
   "metadata": {},
   "outputs": [],
   "source": []
  }
 ],
 "metadata": {
  "kernelspec": {
   "display_name": "Python 3",
   "language": "python",
   "name": "python3"
  },
  "language_info": {
   "codemirror_mode": {
    "name": "ipython",
    "version": 3
   },
   "file_extension": ".py",
   "mimetype": "text/x-python",
   "name": "python",
   "nbconvert_exporter": "python",
   "pygments_lexer": "ipython3",
   "version": "3.7.4"
  }
 },
 "nbformat": 4,
 "nbformat_minor": 2
}
